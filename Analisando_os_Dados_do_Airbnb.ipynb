{
  "nbformat": 4,
  "nbformat_minor": 0,
  "metadata": {
    "colab": {
      "provenance": [],
      "include_colab_link": true
    },
    "kernelspec": {
      "name": "python3",
      "display_name": "Python 3"
    }
  },
  "cells": [
    {
      "cell_type": "markdown",
      "metadata": {
        "id": "view-in-github",
        "colab_type": "text"
      },
      "source": [
        "<a href=\"https://colab.research.google.com/github/Ricardoogawa22/data_science/blob/main/Analisando_os_Dados_do_Airbnb.ipynb\" target=\"_parent\"><img src=\"https://colab.research.google.com/assets/colab-badge.svg\" alt=\"Open In Colab\"/></a>"
      ]
    },
    {
      "cell_type": "markdown",
      "metadata": {
        "id": "kLI0gJtzDGuQ"
      },
      "source": [
        "\n",
        "\n",
        "---\n",
        "\n",
        "# Análise dos Dados do Airbnb - *Tóquio*\n",
        "\n",
        "O [Airbnb](https://www.airbnb.com.br/) já é considerado como sendo a **maior empresa hoteleira da atualidade**. Ah, o detalhe é que ele **não possui nenhum hotel**!\n",
        "\n",
        "Conectando pessoas que querem viajar (e se hospedar) com anfitriões que querem alugar seus imóveis de maneira prática, o Airbnb fornece uma plataforma inovadora para tornar essa hospedagem alternativa.\n",
        "\n",
        "No final de 2018, a Startup fundada 10 anos atrás, já havia **hospedado mais de 300 milhões** de pessoas ao redor de todo o mundo, desafiando as redes hoteleiras tradicionais.\n",
        "\n",
        "Uma das iniciativas do Airbnb é disponibilizar dados do site, para algumas das principais cidades do mundo. Por meio do portal [Inside Airbnb](http://insideairbnb.com/get-the-data.html), é possível baixar uma grande quantidade de dados para desenvolver projetos e soluções de *Data Science*.\n",
        "\n",
        "<center><img alt=\"Analisando Airbnb\" width=\"10%\" src=\"https://www.area360.com.au/wp-content/uploads/2017/09/airbnb-logo.jpg\"></center>\n",
        "\n",
        "**Neste *notebook*, iremos analisar os dados referentes à cidade Tóquio, e ver quais insights podem ser extraídos a partir de dados brutos.**\n",
        "\n",
        "##**Sobre Tóquio**.\n",
        "\n",
        " Tóqui é a capital do Japão e está no grupo das maiores metrópolis do mundo. Onde concentra o centro político, econômico, educacional e cultural do Japão.\n",
        " O Japão já esteve no topo do do ranking das cidades mais caras do mundo, mas hoje ocupa a 5° lugar. Possuindo tambem o título de maior aglomeração de pessoas por metro quadrado. \n",
        "\n",
        "\n",
        "![picture](https://media.gettyimages.com/id/904453184/pt/foto/mt-fuji-and-tokyo-skyline.jpg?s=612x612&w=gi&k=20&c=25bowIy_subZ5oV9JSMLsffC_ft_hrVUTE1vjRCw8GU=)"
      ]
    },
    {
      "cell_type": "markdown",
      "metadata": {
        "id": "0zxQHhIUDF_2"
      },
      "source": [
        "## Obtenção dos Dados\n",
        "\n",
        "  Nessa analise usaremos as bibliotecas de python:\n",
        "*\tPandas – manipulação dos dados\n",
        "*\tMatplotlib – criação de gráficos\n",
        "*\tSeaborn - criação de gráficos\n",
        "\n",
        "\n"
      ]
    },
    {
      "cell_type": "code",
      "metadata": {
        "id": "Vhp2wMPgJ6zX"
      },
      "source": [
        "# importando os pacotes necessarios\n",
        "import pandas as pd \n",
        "import matplotlib.pyplot as plt  \n",
        "import seaborn as sns\n",
        "\n",
        "%matplotlib inline"
      ],
      "execution_count": null,
      "outputs": []
    },
    {
      "cell_type": "markdown",
      "source": [
        "Em seguida adicionamos os dados usando a tabéla fornecida pelo Airbnb, utilizando o pandas."
      ],
      "metadata": {
        "id": "h3djAcrmhsCe"
      }
    },
    {
      "cell_type": "code",
      "metadata": {
        "id": "tUmoAT8DLQ5T"
      },
      "source": [
        "# importando o arquivo listings.csv para um DataFrame\n",
        "df=pd.read_csv('http://data.insideairbnb.com/japan/kant%C5%8D/tokyo/2022-09-22/visualisations/listings.csv')\n"
      ],
      "execution_count": null,
      "outputs": []
    },
    {
      "cell_type": "markdown",
      "metadata": {
        "id": "qb5By2nIMS6m"
      },
      "source": [
        "## Análise dos Dados\n"
      ]
    },
    {
      "cell_type": "markdown",
      "metadata": {
        "id": "RYgvuebKNg8-"
      },
      "source": [
        "**Dicionário das variáveis**\n",
        "\n",
        "* id = número gerado para identificação de cada imóvel \n",
        "* name = nome da propriedade\n",
        "* host_id = número gerado para o proprietário do imóvel\n",
        "* host_name = nome do proprietário\n",
        "* neighbourhood_group = não há informações nesta coluna\n",
        "* neighbourhood = Bairro onde se localiza a propriedade\n",
        "* latitude = coordenada de latitude da propriedade\n",
        "* longitude = coordenada de longitude da propriedade\n",
        "* room_type = tipo de quarto anuniado\n",
        "* price = preço do anuncia do imóvel (ienes)\n",
        "* minimum_nights = quantidade minima de noites que pode-se alugar\n",
        "* number_of_reviews = quantidade de reviews feitas por locatarios\n",
        "* last_reviews = data do último review feito do imóvel\n",
        "* reviews_per_month = quantidade de reviews feita no mês\n",
        "* calulated_host_listings_ount = quantidade de imóveis anuniado pelo mesmo proprietário\n",
        "* quantidade de dias que o imovel está disponivel dentro de 365 dias\n",
        "\n",
        "Antes de iniciar qualquer análise, vamos verificar a cara do nosso *dataset*, analisando as 5 primeiras entradas."
      ]
    },
    {
      "cell_type": "code",
      "metadata": {
        "id": "2iS_dae7YQtO",
        "colab": {
          "base_uri": "https://localhost:8080/",
          "height": 704
        },
        "outputId": "427b7d04-4075-4ab7-9103-b1d8a27ed320"
      },
      "source": [
        "# 5 primeiras entradas\n",
        "df.head()"
      ],
      "execution_count": null,
      "outputs": [
        {
          "output_type": "execute_result",
          "data": {
            "text/plain": [
              "         id                                               name    host_id  \\\n",
              "0  45120811             Guest House  7 min to Disney, New open  289820207   \n",
              "1  40069353                                             留连之家民宿   39884149   \n",
              "2  39568366   Museum House！202探し歩き回る時間がもったいない!最寄り駅徒歩2分ディズニー25分  184746369   \n",
              "3  25414793       Free boxing training! 2 bunk beds dormitory.  162227924   \n",
              "4   9032305  Good Location! Near Tokyo Disneyland and Airport!   47146177   \n",
              "\n",
              "  host_name  neighbourhood_group neighbourhood  latitude  longitude  \\\n",
              "0      Koki                  NaN    Edogawa Ku  35.65802  139.89506   \n",
              "1        钦雄                  NaN    Edogawa Ku  35.71645  139.92855   \n",
              "2  Takahiro                  NaN    Edogawa Ku  35.67108  139.90337   \n",
              "3       Kai                  NaN  Hachioji Shi  35.63138  139.20242   \n",
              "4   Satoshi                  NaN    Edogawa Ku  35.71470  139.92604   \n",
              "\n",
              "         room_type  price  minimum_nights  number_of_reviews last_review  \\\n",
              "0  Entire home/apt  17400               1                 23  2022-08-20   \n",
              "1  Entire home/apt   3266               2                 14  2022-08-15   \n",
              "2  Entire home/apt  10000               3                  9  2021-02-19   \n",
              "3      Shared room   4500               1                 74  2022-05-04   \n",
              "4  Entire home/apt  11000               2                111  2022-08-31   \n",
              "\n",
              "   reviews_per_month  calculated_host_listings_count  availability_365  \\\n",
              "0               0.95                               1               258   \n",
              "1               0.42                               2                41   \n",
              "2               0.26                               2                88   \n",
              "3               1.41                               2                56   \n",
              "4               1.47                               1               161   \n",
              "\n",
              "   number_of_reviews_ltm                                            license  \n",
              "0                     12                                         M120025987  \n",
              "1                      6                                         M120020038  \n",
              "2                      0                                         M120020993  \n",
              "3                      5  Hotels and Inns Business Act | 相模原市保健所 | 相模原市指...  \n",
              "4                      9                                         M120000370  "
            ],
            "text/html": [
              "\n",
              "  <div id=\"df-240d048d-c17e-43c9-ada4-ab3d782468aa\">\n",
              "    <div class=\"colab-df-container\">\n",
              "      <div>\n",
              "<style scoped>\n",
              "    .dataframe tbody tr th:only-of-type {\n",
              "        vertical-align: middle;\n",
              "    }\n",
              "\n",
              "    .dataframe tbody tr th {\n",
              "        vertical-align: top;\n",
              "    }\n",
              "\n",
              "    .dataframe thead th {\n",
              "        text-align: right;\n",
              "    }\n",
              "</style>\n",
              "<table border=\"1\" class=\"dataframe\">\n",
              "  <thead>\n",
              "    <tr style=\"text-align: right;\">\n",
              "      <th></th>\n",
              "      <th>id</th>\n",
              "      <th>name</th>\n",
              "      <th>host_id</th>\n",
              "      <th>host_name</th>\n",
              "      <th>neighbourhood_group</th>\n",
              "      <th>neighbourhood</th>\n",
              "      <th>latitude</th>\n",
              "      <th>longitude</th>\n",
              "      <th>room_type</th>\n",
              "      <th>price</th>\n",
              "      <th>minimum_nights</th>\n",
              "      <th>number_of_reviews</th>\n",
              "      <th>last_review</th>\n",
              "      <th>reviews_per_month</th>\n",
              "      <th>calculated_host_listings_count</th>\n",
              "      <th>availability_365</th>\n",
              "      <th>number_of_reviews_ltm</th>\n",
              "      <th>license</th>\n",
              "    </tr>\n",
              "  </thead>\n",
              "  <tbody>\n",
              "    <tr>\n",
              "      <th>0</th>\n",
              "      <td>45120811</td>\n",
              "      <td>Guest House  7 min to Disney, New open</td>\n",
              "      <td>289820207</td>\n",
              "      <td>Koki</td>\n",
              "      <td>NaN</td>\n",
              "      <td>Edogawa Ku</td>\n",
              "      <td>35.65802</td>\n",
              "      <td>139.89506</td>\n",
              "      <td>Entire home/apt</td>\n",
              "      <td>17400</td>\n",
              "      <td>1</td>\n",
              "      <td>23</td>\n",
              "      <td>2022-08-20</td>\n",
              "      <td>0.95</td>\n",
              "      <td>1</td>\n",
              "      <td>258</td>\n",
              "      <td>12</td>\n",
              "      <td>M120025987</td>\n",
              "    </tr>\n",
              "    <tr>\n",
              "      <th>1</th>\n",
              "      <td>40069353</td>\n",
              "      <td>留连之家民宿</td>\n",
              "      <td>39884149</td>\n",
              "      <td>钦雄</td>\n",
              "      <td>NaN</td>\n",
              "      <td>Edogawa Ku</td>\n",
              "      <td>35.71645</td>\n",
              "      <td>139.92855</td>\n",
              "      <td>Entire home/apt</td>\n",
              "      <td>3266</td>\n",
              "      <td>2</td>\n",
              "      <td>14</td>\n",
              "      <td>2022-08-15</td>\n",
              "      <td>0.42</td>\n",
              "      <td>2</td>\n",
              "      <td>41</td>\n",
              "      <td>6</td>\n",
              "      <td>M120020038</td>\n",
              "    </tr>\n",
              "    <tr>\n",
              "      <th>2</th>\n",
              "      <td>39568366</td>\n",
              "      <td>Museum House！202探し歩き回る時間がもったいない!最寄り駅徒歩2分ディズニー25分</td>\n",
              "      <td>184746369</td>\n",
              "      <td>Takahiro</td>\n",
              "      <td>NaN</td>\n",
              "      <td>Edogawa Ku</td>\n",
              "      <td>35.67108</td>\n",
              "      <td>139.90337</td>\n",
              "      <td>Entire home/apt</td>\n",
              "      <td>10000</td>\n",
              "      <td>3</td>\n",
              "      <td>9</td>\n",
              "      <td>2021-02-19</td>\n",
              "      <td>0.26</td>\n",
              "      <td>2</td>\n",
              "      <td>88</td>\n",
              "      <td>0</td>\n",
              "      <td>M120020993</td>\n",
              "    </tr>\n",
              "    <tr>\n",
              "      <th>3</th>\n",
              "      <td>25414793</td>\n",
              "      <td>Free boxing training! 2 bunk beds dormitory.</td>\n",
              "      <td>162227924</td>\n",
              "      <td>Kai</td>\n",
              "      <td>NaN</td>\n",
              "      <td>Hachioji Shi</td>\n",
              "      <td>35.63138</td>\n",
              "      <td>139.20242</td>\n",
              "      <td>Shared room</td>\n",
              "      <td>4500</td>\n",
              "      <td>1</td>\n",
              "      <td>74</td>\n",
              "      <td>2022-05-04</td>\n",
              "      <td>1.41</td>\n",
              "      <td>2</td>\n",
              "      <td>56</td>\n",
              "      <td>5</td>\n",
              "      <td>Hotels and Inns Business Act | 相模原市保健所 | 相模原市指...</td>\n",
              "    </tr>\n",
              "    <tr>\n",
              "      <th>4</th>\n",
              "      <td>9032305</td>\n",
              "      <td>Good Location! Near Tokyo Disneyland and Airport!</td>\n",
              "      <td>47146177</td>\n",
              "      <td>Satoshi</td>\n",
              "      <td>NaN</td>\n",
              "      <td>Edogawa Ku</td>\n",
              "      <td>35.71470</td>\n",
              "      <td>139.92604</td>\n",
              "      <td>Entire home/apt</td>\n",
              "      <td>11000</td>\n",
              "      <td>2</td>\n",
              "      <td>111</td>\n",
              "      <td>2022-08-31</td>\n",
              "      <td>1.47</td>\n",
              "      <td>1</td>\n",
              "      <td>161</td>\n",
              "      <td>9</td>\n",
              "      <td>M120000370</td>\n",
              "    </tr>\n",
              "  </tbody>\n",
              "</table>\n",
              "</div>\n",
              "      <button class=\"colab-df-convert\" onclick=\"convertToInteractive('df-240d048d-c17e-43c9-ada4-ab3d782468aa')\"\n",
              "              title=\"Convert this dataframe to an interactive table.\"\n",
              "              style=\"display:none;\">\n",
              "        \n",
              "  <svg xmlns=\"http://www.w3.org/2000/svg\" height=\"24px\"viewBox=\"0 0 24 24\"\n",
              "       width=\"24px\">\n",
              "    <path d=\"M0 0h24v24H0V0z\" fill=\"none\"/>\n",
              "    <path d=\"M18.56 5.44l.94 2.06.94-2.06 2.06-.94-2.06-.94-.94-2.06-.94 2.06-2.06.94zm-11 1L8.5 8.5l.94-2.06 2.06-.94-2.06-.94L8.5 2.5l-.94 2.06-2.06.94zm10 10l.94 2.06.94-2.06 2.06-.94-2.06-.94-.94-2.06-.94 2.06-2.06.94z\"/><path d=\"M17.41 7.96l-1.37-1.37c-.4-.4-.92-.59-1.43-.59-.52 0-1.04.2-1.43.59L10.3 9.45l-7.72 7.72c-.78.78-.78 2.05 0 2.83L4 21.41c.39.39.9.59 1.41.59.51 0 1.02-.2 1.41-.59l7.78-7.78 2.81-2.81c.8-.78.8-2.07 0-2.86zM5.41 20L4 18.59l7.72-7.72 1.47 1.35L5.41 20z\"/>\n",
              "  </svg>\n",
              "      </button>\n",
              "      \n",
              "  <style>\n",
              "    .colab-df-container {\n",
              "      display:flex;\n",
              "      flex-wrap:wrap;\n",
              "      gap: 12px;\n",
              "    }\n",
              "\n",
              "    .colab-df-convert {\n",
              "      background-color: #E8F0FE;\n",
              "      border: none;\n",
              "      border-radius: 50%;\n",
              "      cursor: pointer;\n",
              "      display: none;\n",
              "      fill: #1967D2;\n",
              "      height: 32px;\n",
              "      padding: 0 0 0 0;\n",
              "      width: 32px;\n",
              "    }\n",
              "\n",
              "    .colab-df-convert:hover {\n",
              "      background-color: #E2EBFA;\n",
              "      box-shadow: 0px 1px 2px rgba(60, 64, 67, 0.3), 0px 1px 3px 1px rgba(60, 64, 67, 0.15);\n",
              "      fill: #174EA6;\n",
              "    }\n",
              "\n",
              "    [theme=dark] .colab-df-convert {\n",
              "      background-color: #3B4455;\n",
              "      fill: #D2E3FC;\n",
              "    }\n",
              "\n",
              "    [theme=dark] .colab-df-convert:hover {\n",
              "      background-color: #434B5C;\n",
              "      box-shadow: 0px 1px 3px 1px rgba(0, 0, 0, 0.15);\n",
              "      filter: drop-shadow(0px 1px 2px rgba(0, 0, 0, 0.3));\n",
              "      fill: #FFFFFF;\n",
              "    }\n",
              "  </style>\n",
              "\n",
              "      <script>\n",
              "        const buttonEl =\n",
              "          document.querySelector('#df-240d048d-c17e-43c9-ada4-ab3d782468aa button.colab-df-convert');\n",
              "        buttonEl.style.display =\n",
              "          google.colab.kernel.accessAllowed ? 'block' : 'none';\n",
              "\n",
              "        async function convertToInteractive(key) {\n",
              "          const element = document.querySelector('#df-240d048d-c17e-43c9-ada4-ab3d782468aa');\n",
              "          const dataTable =\n",
              "            await google.colab.kernel.invokeFunction('convertToInteractive',\n",
              "                                                     [key], {});\n",
              "          if (!dataTable) return;\n",
              "\n",
              "          const docLinkHtml = 'Like what you see? Visit the ' +\n",
              "            '<a target=\"_blank\" href=https://colab.research.google.com/notebooks/data_table.ipynb>data table notebook</a>'\n",
              "            + ' to learn more about interactive tables.';\n",
              "          element.innerHTML = '';\n",
              "          dataTable['output_type'] = 'display_data';\n",
              "          await google.colab.output.renderOutput(dataTable, element);\n",
              "          const docLink = document.createElement('div');\n",
              "          docLink.innerHTML = docLinkHtml;\n",
              "          element.appendChild(docLink);\n",
              "        }\n",
              "      </script>\n",
              "    </div>\n",
              "  </div>\n",
              "  "
            ]
          },
          "metadata": {},
          "execution_count": 4
        }
      ]
    },
    {
      "cell_type": "markdown",
      "metadata": {
        "id": "6-B_qtEaYEd-"
      },
      "source": [
        "### **Q1. Quantos atributos (variáveis) e quantas entradas o nosso conjunto de dados possui? Quais os tipos das variáveis?**"
      ]
    },
    {
      "cell_type": "code",
      "metadata": {
        "id": "TFRK0tniLV-G",
        "colab": {
          "base_uri": "https://localhost:8080/",
          "height": 382
        },
        "outputId": "cc46f865-eff9-4db3-ac36-cbf148124d13"
      },
      "source": [
        "# identificar o volume de dados do DataFrame\n",
        "print(\"Entradas:\\t {}\".format(df.shape[0]))\n",
        "print(\"Variáveis:\\t {}\".format(df.shape[1]))\n",
        "display(df.dtypes)"
      ],
      "execution_count": null,
      "outputs": [
        {
          "output_type": "stream",
          "name": "stdout",
          "text": [
            "Entradas:\t 9823\n",
            "Variáveis:\t 18\n"
          ]
        },
        {
          "output_type": "display_data",
          "data": {
            "text/plain": [
              "id                                  int64\n",
              "name                               object\n",
              "host_id                             int64\n",
              "host_name                          object\n",
              "neighbourhood_group               float64\n",
              "neighbourhood                      object\n",
              "latitude                          float64\n",
              "longitude                         float64\n",
              "room_type                          object\n",
              "price                               int64\n",
              "minimum_nights                      int64\n",
              "number_of_reviews                   int64\n",
              "last_review                        object\n",
              "reviews_per_month                 float64\n",
              "calculated_host_listings_count      int64\n",
              "availability_365                    int64\n",
              "number_of_reviews_ltm               int64\n",
              "license                            object\n",
              "dtype: object"
            ]
          },
          "metadata": {}
        }
      ]
    },
    {
      "cell_type": "markdown",
      "source": [
        "Podemos observar que são 9823 entradas, com 18 tipos de variáveis, sendo dos tipos, textos, números inteiros e números decimais."
      ],
      "metadata": {
        "id": "kkHSNzE4hYxy"
      }
    },
    {
      "cell_type": "markdown",
      "metadata": {
        "id": "yz1urSUGW9iE"
      },
      "source": [
        "### **Q2. Qual a porcentagem de valores ausentes no *dataset*?**"
      ]
    },
    {
      "cell_type": "code",
      "metadata": {
        "id": "plk2FjbCXOqP",
        "colab": {
          "base_uri": "https://localhost:8080/"
        },
        "outputId": "797a5798-d23c-4fbe-8fec-98d5148d2ca8"
      },
      "source": [
        "(df.isnull().sum() / df.shape[0]).sort_values(ascending=False)"
      ],
      "execution_count": null,
      "outputs": [
        {
          "output_type": "execute_result",
          "data": {
            "text/plain": [
              "neighbourhood_group               1.000000\n",
              "reviews_per_month                 0.155451\n",
              "last_review                       0.155451\n",
              "license                           0.003461\n",
              "minimum_nights                    0.000000\n",
              "number_of_reviews_ltm             0.000000\n",
              "availability_365                  0.000000\n",
              "calculated_host_listings_count    0.000000\n",
              "number_of_reviews                 0.000000\n",
              "id                                0.000000\n",
              "name                              0.000000\n",
              "room_type                         0.000000\n",
              "longitude                         0.000000\n",
              "latitude                          0.000000\n",
              "neighbourhood                     0.000000\n",
              "host_name                         0.000000\n",
              "host_id                           0.000000\n",
              "price                             0.000000\n",
              "dtype: float64"
            ]
          },
          "metadata": {},
          "execution_count": 20
        }
      ]
    },
    {
      "cell_type": "markdown",
      "source": [
        "Vemos que o grupo neighbourhood_group, está com 100% dos dados ausentes. \n",
        "Com isso excluimos a coluna e as linhas que não tem informações."
      ],
      "metadata": {
        "id": "tduX87ZOqG83"
      }
    },
    {
      "cell_type": "code",
      "source": [
        "#excluindo coluna com dados ausentes\n",
        "df.drop(columns=['neighbourhood_group'], inplace=True)\n",
        "\n",
        "#excluindo entradas com dados ausentes\n",
        "df.dropna(axis=0, inplace=True)"
      ],
      "metadata": {
        "id": "UvP7HZ4HM7kf"
      },
      "execution_count": null,
      "outputs": []
    },
    {
      "cell_type": "markdown",
      "metadata": {
        "id": "iHXvvHIxaoNc"
      },
      "source": [
        "### **Q3. Qual o tipo de distribuição das variáveis?** "
      ]
    },
    {
      "cell_type": "code",
      "metadata": {
        "id": "q2wWSfeRbmBo",
        "colab": {
          "base_uri": "https://localhost:8080/",
          "height": 607
        },
        "outputId": "3f295aec-d9d8-48d3-c3a7-1b4e5908503d"
      },
      "source": [
        "df.hist(bins=15, figsize=(15,10));"
      ],
      "execution_count": null,
      "outputs": [
        {
          "output_type": "display_data",
          "data": {
            "text/plain": [
              "<Figure size 1080x720 with 12 Axes>"
            ],
            "image/png": "[encoded data removed]"
          },
          "metadata": {
            "needs_background": "light"
          }
        }
      ]
    },
    {
      "cell_type": "markdown",
      "source": [
        "Com os graficos, podemos observar que existem muitas informações, mas não conseguimos enxergar nada."
      ],
      "metadata": {
        "id": "1dDoBhsTra0Y"
      }
    },
    {
      "cell_type": "markdown",
      "source": [
        "### **Q4. Há outliers presentes?**"
      ],
      "metadata": {
        "id": "S6jLHsCddTZb"
      }
    },
    {
      "cell_type": "markdown",
      "source": [
        "Pela distribuição do histograma, é possível verificar indícios da presença de *outliers*. Olhe por exemplo as variáveis `price`, `minimum_nights` e `calculated_host_listings_count`.\n",
        "\n",
        "Os valores não seguem uma distruição, e distorcem toda a representação gráfica. Para confirmar, há duas maneiras rápidas que auxiliam a detecção de *outliers*. São elas:\n",
        "\n",
        "* Resumo estatístico por meio do método `describe()`\n",
        "* Plotar `boxplots` para a variável."
      ],
      "metadata": {
        "id": "K5kHf_33dM6Q"
      }
    },
    {
      "cell_type": "code",
      "source": [
        "df[['price', 'minimum_nights', 'number_of_reviews', 'reviews_per_month', 'calculated_host_listings_count', 'availability_365']].describe()"
      ],
      "metadata": {
        "colab": {
          "base_uri": "https://localhost:8080/",
          "height": 300
        },
        "id": "sJPGVIyJeEYu",
        "outputId": "63e4baf3-3d06-4a23-9745-d891e3e166f7"
      },
      "execution_count": null,
      "outputs": [
        {
          "output_type": "execute_result",
          "data": {
            "text/plain": [
              "              price  minimum_nights  number_of_reviews  reviews_per_month  \\\n",
              "count  9.823000e+03     9823.000000        9823.000000        8296.000000   \n",
              "mean   1.498582e+04        2.540466          30.385320           1.025065   \n",
              "std    9.755941e+04        8.975734          49.984574           1.318514   \n",
              "min    0.000000e+00        1.000000           0.000000           0.010000   \n",
              "25%    5.200000e+03        1.000000           2.000000           0.300000   \n",
              "50%    8.000000e+03        1.000000          11.000000           0.690000   \n",
              "75%    1.330100e+04        2.000000          38.000000           1.290000   \n",
              "max    8.928571e+06      365.000000        1150.000000          28.990000   \n",
              "\n",
              "       calculated_host_listings_count  availability_365  \n",
              "count                     9823.000000       9823.000000  \n",
              "mean                        13.270589        147.204011  \n",
              "std                         15.776658        112.520247  \n",
              "min                          1.000000          0.000000  \n",
              "25%                          3.000000         62.000000  \n",
              "50%                          8.000000        130.000000  \n",
              "75%                         17.000000        225.000000  \n",
              "max                         98.000000        365.000000  "
            ],
            "text/html": [
              "\n",
              "  <div id=\"df-7d49c1fd-501e-4a64-a3af-1c776573e0b7\">\n",
              "    <div class=\"colab-df-container\">\n",
              "      <div>\n",
              "<style scoped>\n",
              "    .dataframe tbody tr th:only-of-type {\n",
              "        vertical-align: middle;\n",
              "    }\n",
              "\n",
              "    .dataframe tbody tr th {\n",
              "        vertical-align: top;\n",
              "    }\n",
              "\n",
              "    .dataframe thead th {\n",
              "        text-align: right;\n",
              "    }\n",
              "</style>\n",
              "<table border=\"1\" class=\"dataframe\">\n",
              "  <thead>\n",
              "    <tr style=\"text-align: right;\">\n",
              "      <th></th>\n",
              "      <th>price</th>\n",
              "      <th>minimum_nights</th>\n",
              "      <th>number_of_reviews</th>\n",
              "      <th>reviews_per_month</th>\n",
              "      <th>calculated_host_listings_count</th>\n",
              "      <th>availability_365</th>\n",
              "    </tr>\n",
              "  </thead>\n",
              "  <tbody>\n",
              "    <tr>\n",
              "      <th>count</th>\n",
              "      <td>9.823000e+03</td>\n",
              "      <td>9823.000000</td>\n",
              "      <td>9823.000000</td>\n",
              "      <td>8296.000000</td>\n",
              "      <td>9823.000000</td>\n",
              "      <td>9823.000000</td>\n",
              "    </tr>\n",
              "    <tr>\n",
              "      <th>mean</th>\n",
              "      <td>1.498582e+04</td>\n",
              "      <td>2.540466</td>\n",
              "      <td>30.385320</td>\n",
              "      <td>1.025065</td>\n",
              "      <td>13.270589</td>\n",
              "      <td>147.204011</td>\n",
              "    </tr>\n",
              "    <tr>\n",
              "      <th>std</th>\n",
              "      <td>9.755941e+04</td>\n",
              "      <td>8.975734</td>\n",
              "      <td>49.984574</td>\n",
              "      <td>1.318514</td>\n",
              "      <td>15.776658</td>\n",
              "      <td>112.520247</td>\n",
              "    </tr>\n",
              "    <tr>\n",
              "      <th>min</th>\n",
              "      <td>0.000000e+00</td>\n",
              "      <td>1.000000</td>\n",
              "      <td>0.000000</td>\n",
              "      <td>0.010000</td>\n",
              "      <td>1.000000</td>\n",
              "      <td>0.000000</td>\n",
              "    </tr>\n",
              "    <tr>\n",
              "      <th>25%</th>\n",
              "      <td>5.200000e+03</td>\n",
              "      <td>1.000000</td>\n",
              "      <td>2.000000</td>\n",
              "      <td>0.300000</td>\n",
              "      <td>3.000000</td>\n",
              "      <td>62.000000</td>\n",
              "    </tr>\n",
              "    <tr>\n",
              "      <th>50%</th>\n",
              "      <td>8.000000e+03</td>\n",
              "      <td>1.000000</td>\n",
              "      <td>11.000000</td>\n",
              "      <td>0.690000</td>\n",
              "      <td>8.000000</td>\n",
              "      <td>130.000000</td>\n",
              "    </tr>\n",
              "    <tr>\n",
              "      <th>75%</th>\n",
              "      <td>1.330100e+04</td>\n",
              "      <td>2.000000</td>\n",
              "      <td>38.000000</td>\n",
              "      <td>1.290000</td>\n",
              "      <td>17.000000</td>\n",
              "      <td>225.000000</td>\n",
              "    </tr>\n",
              "    <tr>\n",
              "      <th>max</th>\n",
              "      <td>8.928571e+06</td>\n",
              "      <td>365.000000</td>\n",
              "      <td>1150.000000</td>\n",
              "      <td>28.990000</td>\n",
              "      <td>98.000000</td>\n",
              "      <td>365.000000</td>\n",
              "    </tr>\n",
              "  </tbody>\n",
              "</table>\n",
              "</div>\n",
              "      <button class=\"colab-df-convert\" onclick=\"convertToInteractive('df-7d49c1fd-501e-4a64-a3af-1c776573e0b7')\"\n",
              "              title=\"Convert this dataframe to an interactive table.\"\n",
              "              style=\"display:none;\">\n",
              "        \n",
              "  <svg xmlns=\"http://www.w3.org/2000/svg\" height=\"24px\"viewBox=\"0 0 24 24\"\n",
              "       width=\"24px\">\n",
              "    <path d=\"M0 0h24v24H0V0z\" fill=\"none\"/>\n",
              "    <path d=\"M18.56 5.44l.94 2.06.94-2.06 2.06-.94-2.06-.94-.94-2.06-.94 2.06-2.06.94zm-11 1L8.5 8.5l.94-2.06 2.06-.94-2.06-.94L8.5 2.5l-.94 2.06-2.06.94zm10 10l.94 2.06.94-2.06 2.06-.94-2.06-.94-.94-2.06-.94 2.06-2.06.94z\"/><path d=\"M17.41 7.96l-1.37-1.37c-.4-.4-.92-.59-1.43-.59-.52 0-1.04.2-1.43.59L10.3 9.45l-7.72 7.72c-.78.78-.78 2.05 0 2.83L4 21.41c.39.39.9.59 1.41.59.51 0 1.02-.2 1.41-.59l7.78-7.78 2.81-2.81c.8-.78.8-2.07 0-2.86zM5.41 20L4 18.59l7.72-7.72 1.47 1.35L5.41 20z\"/>\n",
              "  </svg>\n",
              "      </button>\n",
              "      \n",
              "  <style>\n",
              "    .colab-df-container {\n",
              "      display:flex;\n",
              "      flex-wrap:wrap;\n",
              "      gap: 12px;\n",
              "    }\n",
              "\n",
              "    .colab-df-convert {\n",
              "      background-color: #E8F0FE;\n",
              "      border: none;\n",
              "      border-radius: 50%;\n",
              "      cursor: pointer;\n",
              "      display: none;\n",
              "      fill: #1967D2;\n",
              "      height: 32px;\n",
              "      padding: 0 0 0 0;\n",
              "      width: 32px;\n",
              "    }\n",
              "\n",
              "    .colab-df-convert:hover {\n",
              "      background-color: #E2EBFA;\n",
              "      box-shadow: 0px 1px 2px rgba(60, 64, 67, 0.3), 0px 1px 3px 1px rgba(60, 64, 67, 0.15);\n",
              "      fill: #174EA6;\n",
              "    }\n",
              "\n",
              "    [theme=dark] .colab-df-convert {\n",
              "      background-color: #3B4455;\n",
              "      fill: #D2E3FC;\n",
              "    }\n",
              "\n",
              "    [theme=dark] .colab-df-convert:hover {\n",
              "      background-color: #434B5C;\n",
              "      box-shadow: 0px 1px 3px 1px rgba(0, 0, 0, 0.15);\n",
              "      filter: drop-shadow(0px 1px 2px rgba(0, 0, 0, 0.3));\n",
              "      fill: #FFFFFF;\n",
              "    }\n",
              "  </style>\n",
              "\n",
              "      <script>\n",
              "        const buttonEl =\n",
              "          document.querySelector('#df-7d49c1fd-501e-4a64-a3af-1c776573e0b7 button.colab-df-convert');\n",
              "        buttonEl.style.display =\n",
              "          google.colab.kernel.accessAllowed ? 'block' : 'none';\n",
              "\n",
              "        async function convertToInteractive(key) {\n",
              "          const element = document.querySelector('#df-7d49c1fd-501e-4a64-a3af-1c776573e0b7');\n",
              "          const dataTable =\n",
              "            await google.colab.kernel.invokeFunction('convertToInteractive',\n",
              "                                                     [key], {});\n",
              "          if (!dataTable) return;\n",
              "\n",
              "          const docLinkHtml = 'Like what you see? Visit the ' +\n",
              "            '<a target=\"_blank\" href=https://colab.research.google.com/notebooks/data_table.ipynb>data table notebook</a>'\n",
              "            + ' to learn more about interactive tables.';\n",
              "          element.innerHTML = '';\n",
              "          dataTable['output_type'] = 'display_data';\n",
              "          await google.colab.output.renderOutput(dataTable, element);\n",
              "          const docLink = document.createElement('div');\n",
              "          docLink.innerHTML = docLinkHtml;\n",
              "          element.appendChild(docLink);\n",
              "        }\n",
              "      </script>\n",
              "    </div>\n",
              "  </div>\n",
              "  "
            ]
          },
          "metadata": {},
          "execution_count": 22
        }
      ]
    },
    {
      "cell_type": "markdown",
      "source": [
        "Olhando o resumo estatístico acima, podemos confirmar algumas hipóteses como:\n",
        "\n",
        "* A variável `price` possui 75% do valor abaixo de ¥13300, porém seu valor máximo é ¥8928571.\n",
        "* A quantidade mínima de noites (`minimum_nights`) é de 365 dias no ano.\n",
        "\n"
      ],
      "metadata": {
        "id": "YD0mxLAmgH8q"
      }
    },
    {
      "cell_type": "markdown",
      "source": [
        "#### Boxplot para price\n",
        "\n",
        "Iremos idenficar os outliers dentro das variais price e definir limites máximo e mínimo para a variável."
      ],
      "metadata": {
        "id": "K7x1cS33go9S"
      }
    },
    {
      "cell_type": "code",
      "source": [
        "# identificando os outliers para a variável price\n",
        "q1_price = df.price.quantile(.25)\n",
        "q3_price = df.price.quantile(.75)\n",
        "IQR_price = q3_price - q1_price\n",
        "print('IQR da variável price:, IQR_price')\n",
        "\n",
        "# definindo os limites\n",
        "\n",
        "sup_price = q3_price + 1.5* IQR_price\n",
        "inf_price = q1_price - 1.5* IQR_price\n",
        "\n",
        "print('Limite superior de price: ', sup_price)\n",
        "print('Limite inferior de price: ', inf_price)"
      ],
      "metadata": {
        "colab": {
          "base_uri": "https://localhost:8080/"
        },
        "id": "kyKNAszsgrfK",
        "outputId": "9e1c2f61-1073-4b34-a028-734381ffc715"
      },
      "execution_count": null,
      "outputs": [
        {
          "output_type": "stream",
          "name": "stdout",
          "text": [
            "IQR da variável price:, IQR_price\n",
            "Limite superior de price:  25452.5\n",
            "Limite inferior de price:  -6951.5\n"
          ]
        }
      ]
    },
    {
      "cell_type": "markdown",
      "source": [
        "Agora com os limites definidos, podemos plotar um gráfico para enxergar a diferença entre os números, e verificar quantas entradas fora dos milites teremos e saber qual a porcentagem de informações serão perdidas."
      ],
      "metadata": {
        "id": "xoAmBTta-6JR"
      }
    },
    {
      "cell_type": "code",
      "source": [
        "fig, ax = plt.subplots(figsize=(15,3))\n",
        "df.price.plot(kind='box', vert=False, figsize=(15,3))\n",
        "ax.set_title('Dataset Original - price')\n",
        "plt.show()\n",
        "print(\"O dataset possui {} colunas\".format(df.shape[0]))\n",
        "print(\"{} Entradas acima de 25452.5\".format(len(df[df.price > 25452.5])))\n",
        "print(\"Representam {:.2f}% do dataset\".format((len(df[df.price > 25452.5]) / df.shape[0])*100))"
      ],
      "metadata": {
        "colab": {
          "base_uri": "https://localhost:8080/",
          "height": 292
        },
        "id": "XgCJ8ccEgM-G",
        "outputId": "66fe5039-b6cf-459e-e824-26e9c76fb488"
      },
      "execution_count": null,
      "outputs": [
        {
          "output_type": "display_data",
          "data": {
            "text/plain": [
              "<Figure size 1080x216 with 1 Axes>"
            ],
            "image/png": "[encoded data removed]"
          },
          "metadata": {
            "needs_background": "light"
          }
        },
        {
          "output_type": "stream",
          "name": "stdout",
          "text": [
            "O dataset possui 9823 colunas\n",
            "844 Entradas acima de 25452.5\n",
            "Representam 8.59% do dataset\n"
          ]
        }
      ]
    },
    {
      "cell_type": "markdown",
      "source": [
        "#### Boxplot para minimum_nights\n",
        "\n",
        "Fazemos o mesmo com as variais minimum_nights."
      ],
      "metadata": {
        "id": "FTK2RHeknXkx"
      }
    },
    {
      "cell_type": "code",
      "source": [
        "# identificando os outliers para a variável price\n",
        "q1_minimum_nights = df.minimum_nights.quantile(.25)\n",
        "q3_minimum_nights = df.minimum_nights.quantile(.75)\n",
        "IQR_minimum_nights = q3_minimum_nights - q1_minimum_nights\n",
        "print('IQR da variável minimum_nights:, IQR_minimum_nights')\n",
        "\n",
        "# definindo os limites\n",
        "\n",
        "sup_minimum_nights = q3_minimum_nights + 1.5* IQR_minimum_nights\n",
        "inf_minimum_nights = q1_minimum_nights - 1.5* IQR_minimum_nights\n",
        "\n",
        "print('Limite superior de minimum_nights: ', sup_minimum_nights)\n",
        "print('Limite inferior de minimum_nights: ', inf_minimum_nights)\n"
      ],
      "metadata": {
        "colab": {
          "base_uri": "https://localhost:8080/"
        },
        "id": "_06U2-TSnbi2",
        "outputId": "b9c09e99-4f40-46ce-a050-9779f7dfe50f"
      },
      "execution_count": null,
      "outputs": [
        {
          "output_type": "stream",
          "name": "stdout",
          "text": [
            "IQR da variável minimum_nights:, IQR_minimum_nights\n",
            "Limite superior de minimum_nights:  3.5\n",
            "Limite inferior de minimum_nights:  -0.5\n"
          ]
        }
      ]
    },
    {
      "cell_type": "markdown",
      "source": [
        "Agora com os limites definidos, plotamos um gráfico e coletamos as mesmas informações que tiramos do price."
      ],
      "metadata": {
        "id": "Yhd1jBsNA10h"
      }
    },
    {
      "cell_type": "code",
      "source": [
        "fig, ax = plt.subplots(figsize=(15,3))\n",
        "df.minimum_nights.plot(kind='box', vert=False, figsize=(15,3))\n",
        "ax.set_title('Dataset Original - minimum_nights')\n",
        "plt.show()\n",
        "print(\"O dataset possui {} colunas\".format(df.shape[0]))\n",
        "print(\"{} Entradas acima de 3.5\".format(len(df[df.minimum_nights > 3.5])))\n",
        "print(\"Representam {:.2f}% do dataset\".format((len(df[df.minimum_nights > 3.5]) / df.shape[0])*100))"
      ],
      "metadata": {
        "colab": {
          "base_uri": "https://localhost:8080/",
          "height": 279
        },
        "id": "mg_PQe-vBMdA",
        "outputId": "ca050dfb-f3c2-4b48-eb7e-12363430fb14"
      },
      "execution_count": null,
      "outputs": [
        {
          "output_type": "display_data",
          "data": {
            "text/plain": [
              "<Figure size 1080x216 with 1 Axes>"
            ],
            "image/png": "[encoded data removed]"
          },
          "metadata": {
            "needs_background": "light"
          }
        },
        {
          "output_type": "stream",
          "name": "stdout",
          "text": [
            "O dataset possui 9823 colunas\n",
            "677 Entradas acima de 3.5\n",
            "Representam 6.89% do dataset\n"
          ]
        }
      ]
    },
    {
      "cell_type": "markdown",
      "source": [
        "#### Histogramas sem *outliers*\n",
        "\n",
        "Já que identificamos *outliers* nas variáveis `price` e `minimum_nights`, vamos agora limpar o *DataFrame* delas e plotar novamente o histograma."
      ],
      "metadata": {
        "id": "1smyNdhfKY8W"
      }
    },
    {
      "cell_type": "code",
      "source": [
        "#limpando o dataset\n",
        "df_clean = df.copy()\n",
        "\n",
        "df_clean.drop(df_clean[df_clean.price > 25452.5].index, axis=0, inplace=True)\n",
        "df_clean.drop(df_clean[df_clean.price == 0.0].index, axis=0, inplace=True)\n",
        "df_clean.drop(df_clean[df_clean.minimum_nights > 3.5].index, axis=0, inplace=True)\n",
        "\n",
        "print('Shape antes da limpeza', df.shape)\n",
        "print('Shape depois da limpeza', df_clean.shape)"
      ],
      "metadata": {
        "colab": {
          "base_uri": "https://localhost:8080/"
        },
        "id": "dW9IGUV0KiBJ",
        "outputId": "f8795116-f6b0-40cf-d9ff-bcd8a72eda66"
      },
      "execution_count": null,
      "outputs": [
        {
          "output_type": "stream",
          "name": "stdout",
          "text": [
            "Shape antes da limpeza (9823, 18)\n",
            "Shape depois da limpeza (8320, 18)\n"
          ]
        }
      ]
    },
    {
      "cell_type": "markdown",
      "source": [
        "Podemos observar que a quantidade de linhas perdidas foram de 1503. Oque não é tão considerável assim. Contando com a qualidade da informações que teremos. "
      ],
      "metadata": {
        "id": "aDRswiMxDJRA"
      }
    },
    {
      "cell_type": "markdown",
      "source": [
        "#### Comparando o boxplot"
      ],
      "metadata": {
        "id": "o_LUz8i1D5S0"
      }
    },
    {
      "cell_type": "code",
      "source": [
        "#Plotando novamente o boxplot original\n",
        "fig, ax = plt.subplots(figsize=(15,3))\n",
        "df.price.plot(kind='box', vert=False, figsize=(15,3))\n",
        "ax.set_title('Dataset Original - price')\n",
        "plt.show()\n",
        "print(\"O dataset possui {} colunas\".format(df.shape[0]))\n",
        "print(\"{} Entradas acima de 25452.5\".format(len(df[df.price > 25452.5])))\n",
        "print(\"Representam {:.2f}% do dataset\".format((len(df[df.price > 25452.5]) / df.shape[0])*100))\n"
      ],
      "metadata": {
        "colab": {
          "base_uri": "https://localhost:8080/",
          "height": 292
        },
        "id": "Db0Z2U-cEFwS",
        "outputId": "b5191441-43c0-42fe-fe61-af96119ea0ab"
      },
      "execution_count": null,
      "outputs": [
        {
          "output_type": "display_data",
          "data": {
            "text/plain": [
              "<Figure size 1080x216 with 1 Axes>"
            ],
            "image/png": "[encoded data removed]"
          },
          "metadata": {
            "needs_background": "light"
          }
        },
        {
          "output_type": "stream",
          "name": "stdout",
          "text": [
            "O dataset possui 9823 colunas\n",
            "844 Entradas acima de 25452.5\n",
            "Representam 8.59% do dataset\n"
          ]
        }
      ]
    },
    {
      "cell_type": "code",
      "source": [
        "#Plotando novamente o boxplot limpo\n",
        "fig, ax = plt.subplots(figsize=(15,3))\n",
        "df_clean.price.plot(kind='box', vert=False)\n",
        "ax.set_title('Dataset Original - price')\n",
        "plt.show()\n",
        "print('Tamanho original: {} colunas'.format(df.shape[0]))\n",
        "print('tamanho atual: {} colunas'.format(df_clean.shape[0]))"
      ],
      "metadata": {
        "colab": {
          "base_uri": "https://localhost:8080/",
          "height": 262
        },
        "id": "c8uwoOCbEUlF",
        "outputId": "01c9d46c-6ee7-4c2b-e67c-70e37fc5faa3"
      },
      "execution_count": null,
      "outputs": [
        {
          "output_type": "display_data",
          "data": {
            "text/plain": [
              "<Figure size 1080x216 with 1 Axes>"
            ],
            "image/png": "[encoded data removed]"
          },
          "metadata": {
            "needs_background": "light"
          }
        },
        {
          "output_type": "stream",
          "name": "stdout",
          "text": [
            "Tamanho original: 9823 colunas\n",
            "tamanho atual: 8320 colunas\n"
          ]
        }
      ]
    },
    {
      "cell_type": "markdown",
      "source": [
        "Agora podemos ver o resultado da limpeza realizada nos nossos dados. \n",
        "\n",
        "O boxplot ainda mostra alguns dados como outliers. Porem os mesmo estão sendo calculados em relação ao novo dataset, que levou em consideração os quartis dos dados originais.\n",
        "\n",
        "Agora, vamos observar os histogramas novamente, para que tenhamos certeza que não existem outliers que possam prejudicar nossa análise.\n"
      ],
      "metadata": {
        "id": "KSzjh2wmGG1v"
      }
    },
    {
      "cell_type": "code",
      "source": [
        "# verificando as distribuições \n",
        "df_clean.describe()"
      ],
      "metadata": {
        "colab": {
          "base_uri": "https://localhost:8080/",
          "height": 364
        },
        "id": "-WAvVWCqHZjn",
        "outputId": "b1affba3-5fed-41a2-dfad-404bd58b497a"
      },
      "execution_count": null,
      "outputs": [
        {
          "output_type": "execute_result",
          "data": {
            "text/plain": [
              "                 id       host_id  neighbourhood_group     latitude  \\\n",
              "count  8.320000e+03  8.320000e+03                  0.0  8320.000000   \n",
              "mean   6.012424e+16  2.158217e+08                  NaN    35.697815   \n",
              "std    1.861392e+17  1.286103e+08                  NaN     0.041876   \n",
              "min    1.976770e+05  7.716940e+05                  NaN    35.524580   \n",
              "25%    3.101968e+07  9.519066e+07                  NaN    35.688030   \n",
              "50%    4.105223e+07  2.267837e+08                  NaN    35.703480   \n",
              "75%    4.884369e+07  3.218137e+08                  NaN    35.719230   \n",
              "max    7.205120e+17  4.795821e+08                  NaN    35.830640   \n",
              "\n",
              "         longitude         price  minimum_nights  number_of_reviews  \\\n",
              "count  8320.000000   8320.000000     8320.000000        8320.000000   \n",
              "mean    139.738455   8900.406731        1.403486          31.480769   \n",
              "std       0.075613   5157.211560        0.597959          51.430297   \n",
              "min     139.130167   1350.000000        1.000000           0.000000   \n",
              "25%     139.700247   5019.250000        1.000000           2.000000   \n",
              "50%     139.733205   7469.500000        1.000000          11.000000   \n",
              "75%     139.790350  11430.000000        2.000000          39.000000   \n",
              "max     139.933540  25393.000000        3.000000        1150.000000   \n",
              "\n",
              "       reviews_per_month  calculated_host_listings_count  availability_365  \\\n",
              "count        7086.000000                     8320.000000       8320.000000   \n",
              "mean            1.065651                       13.740745        148.233413   \n",
              "std             1.344525                       16.285778        111.050865   \n",
              "min             0.010000                        1.000000          0.000000   \n",
              "25%             0.330000                        4.000000         64.000000   \n",
              "50%             0.730000                        8.000000        133.000000   \n",
              "75%             1.330000                       18.000000        223.000000   \n",
              "max            28.990000                       98.000000        365.000000   \n",
              "\n",
              "       number_of_reviews_ltm  \n",
              "count            8320.000000  \n",
              "mean                7.091827  \n",
              "std                15.127681  \n",
              "min                 0.000000  \n",
              "25%                 0.000000  \n",
              "50%                 2.000000  \n",
              "75%                 8.000000  \n",
              "max               392.000000  "
            ],
            "text/html": [
              "\n",
              "  <div id=\"df-c44c35be-656a-4d4a-86b6-96e014787449\">\n",
              "    <div class=\"colab-df-container\">\n",
              "      <div>\n",
              "<style scoped>\n",
              "    .dataframe tbody tr th:only-of-type {\n",
              "        vertical-align: middle;\n",
              "    }\n",
              "\n",
              "    .dataframe tbody tr th {\n",
              "        vertical-align: top;\n",
              "    }\n",
              "\n",
              "    .dataframe thead th {\n",
              "        text-align: right;\n",
              "    }\n",
              "</style>\n",
              "<table border=\"1\" class=\"dataframe\">\n",
              "  <thead>\n",
              "    <tr style=\"text-align: right;\">\n",
              "      <th></th>\n",
              "      <th>id</th>\n",
              "      <th>host_id</th>\n",
              "      <th>neighbourhood_group</th>\n",
              "      <th>latitude</th>\n",
              "      <th>longitude</th>\n",
              "      <th>price</th>\n",
              "      <th>minimum_nights</th>\n",
              "      <th>number_of_reviews</th>\n",
              "      <th>reviews_per_month</th>\n",
              "      <th>calculated_host_listings_count</th>\n",
              "      <th>availability_365</th>\n",
              "      <th>number_of_reviews_ltm</th>\n",
              "    </tr>\n",
              "  </thead>\n",
              "  <tbody>\n",
              "    <tr>\n",
              "      <th>count</th>\n",
              "      <td>8.320000e+03</td>\n",
              "      <td>8.320000e+03</td>\n",
              "      <td>0.0</td>\n",
              "      <td>8320.000000</td>\n",
              "      <td>8320.000000</td>\n",
              "      <td>8320.000000</td>\n",
              "      <td>8320.000000</td>\n",
              "      <td>8320.000000</td>\n",
              "      <td>7086.000000</td>\n",
              "      <td>8320.000000</td>\n",
              "      <td>8320.000000</td>\n",
              "      <td>8320.000000</td>\n",
              "    </tr>\n",
              "    <tr>\n",
              "      <th>mean</th>\n",
              "      <td>6.012424e+16</td>\n",
              "      <td>2.158217e+08</td>\n",
              "      <td>NaN</td>\n",
              "      <td>35.697815</td>\n",
              "      <td>139.738455</td>\n",
              "      <td>8900.406731</td>\n",
              "      <td>1.403486</td>\n",
              "      <td>31.480769</td>\n",
              "      <td>1.065651</td>\n",
              "      <td>13.740745</td>\n",
              "      <td>148.233413</td>\n",
              "      <td>7.091827</td>\n",
              "    </tr>\n",
              "    <tr>\n",
              "      <th>std</th>\n",
              "      <td>1.861392e+17</td>\n",
              "      <td>1.286103e+08</td>\n",
              "      <td>NaN</td>\n",
              "      <td>0.041876</td>\n",
              "      <td>0.075613</td>\n",
              "      <td>5157.211560</td>\n",
              "      <td>0.597959</td>\n",
              "      <td>51.430297</td>\n",
              "      <td>1.344525</td>\n",
              "      <td>16.285778</td>\n",
              "      <td>111.050865</td>\n",
              "      <td>15.127681</td>\n",
              "    </tr>\n",
              "    <tr>\n",
              "      <th>min</th>\n",
              "      <td>1.976770e+05</td>\n",
              "      <td>7.716940e+05</td>\n",
              "      <td>NaN</td>\n",
              "      <td>35.524580</td>\n",
              "      <td>139.130167</td>\n",
              "      <td>1350.000000</td>\n",
              "      <td>1.000000</td>\n",
              "      <td>0.000000</td>\n",
              "      <td>0.010000</td>\n",
              "      <td>1.000000</td>\n",
              "      <td>0.000000</td>\n",
              "      <td>0.000000</td>\n",
              "    </tr>\n",
              "    <tr>\n",
              "      <th>25%</th>\n",
              "      <td>3.101968e+07</td>\n",
              "      <td>9.519066e+07</td>\n",
              "      <td>NaN</td>\n",
              "      <td>35.688030</td>\n",
              "      <td>139.700247</td>\n",
              "      <td>5019.250000</td>\n",
              "      <td>1.000000</td>\n",
              "      <td>2.000000</td>\n",
              "      <td>0.330000</td>\n",
              "      <td>4.000000</td>\n",
              "      <td>64.000000</td>\n",
              "      <td>0.000000</td>\n",
              "    </tr>\n",
              "    <tr>\n",
              "      <th>50%</th>\n",
              "      <td>4.105223e+07</td>\n",
              "      <td>2.267837e+08</td>\n",
              "      <td>NaN</td>\n",
              "      <td>35.703480</td>\n",
              "      <td>139.733205</td>\n",
              "      <td>7469.500000</td>\n",
              "      <td>1.000000</td>\n",
              "      <td>11.000000</td>\n",
              "      <td>0.730000</td>\n",
              "      <td>8.000000</td>\n",
              "      <td>133.000000</td>\n",
              "      <td>2.000000</td>\n",
              "    </tr>\n",
              "    <tr>\n",
              "      <th>75%</th>\n",
              "      <td>4.884369e+07</td>\n",
              "      <td>3.218137e+08</td>\n",
              "      <td>NaN</td>\n",
              "      <td>35.719230</td>\n",
              "      <td>139.790350</td>\n",
              "      <td>11430.000000</td>\n",
              "      <td>2.000000</td>\n",
              "      <td>39.000000</td>\n",
              "      <td>1.330000</td>\n",
              "      <td>18.000000</td>\n",
              "      <td>223.000000</td>\n",
              "      <td>8.000000</td>\n",
              "    </tr>\n",
              "    <tr>\n",
              "      <th>max</th>\n",
              "      <td>7.205120e+17</td>\n",
              "      <td>4.795821e+08</td>\n",
              "      <td>NaN</td>\n",
              "      <td>35.830640</td>\n",
              "      <td>139.933540</td>\n",
              "      <td>25393.000000</td>\n",
              "      <td>3.000000</td>\n",
              "      <td>1150.000000</td>\n",
              "      <td>28.990000</td>\n",
              "      <td>98.000000</td>\n",
              "      <td>365.000000</td>\n",
              "      <td>392.000000</td>\n",
              "    </tr>\n",
              "  </tbody>\n",
              "</table>\n",
              "</div>\n",
              "      <button class=\"colab-df-convert\" onclick=\"convertToInteractive('df-c44c35be-656a-4d4a-86b6-96e014787449')\"\n",
              "              title=\"Convert this dataframe to an interactive table.\"\n",
              "              style=\"display:none;\">\n",
              "        \n",
              "  <svg xmlns=\"http://www.w3.org/2000/svg\" height=\"24px\"viewBox=\"0 0 24 24\"\n",
              "       width=\"24px\">\n",
              "    <path d=\"M0 0h24v24H0V0z\" fill=\"none\"/>\n",
              "    <path d=\"M18.56 5.44l.94 2.06.94-2.06 2.06-.94-2.06-.94-.94-2.06-.94 2.06-2.06.94zm-11 1L8.5 8.5l.94-2.06 2.06-.94-2.06-.94L8.5 2.5l-.94 2.06-2.06.94zm10 10l.94 2.06.94-2.06 2.06-.94-2.06-.94-.94-2.06-.94 2.06-2.06.94z\"/><path d=\"M17.41 7.96l-1.37-1.37c-.4-.4-.92-.59-1.43-.59-.52 0-1.04.2-1.43.59L10.3 9.45l-7.72 7.72c-.78.78-.78 2.05 0 2.83L4 21.41c.39.39.9.59 1.41.59.51 0 1.02-.2 1.41-.59l7.78-7.78 2.81-2.81c.8-.78.8-2.07 0-2.86zM5.41 20L4 18.59l7.72-7.72 1.47 1.35L5.41 20z\"/>\n",
              "  </svg>\n",
              "      </button>\n",
              "      \n",
              "  <style>\n",
              "    .colab-df-container {\n",
              "      display:flex;\n",
              "      flex-wrap:wrap;\n",
              "      gap: 12px;\n",
              "    }\n",
              "\n",
              "    .colab-df-convert {\n",
              "      background-color: #E8F0FE;\n",
              "      border: none;\n",
              "      border-radius: 50%;\n",
              "      cursor: pointer;\n",
              "      display: none;\n",
              "      fill: #1967D2;\n",
              "      height: 32px;\n",
              "      padding: 0 0 0 0;\n",
              "      width: 32px;\n",
              "    }\n",
              "\n",
              "    .colab-df-convert:hover {\n",
              "      background-color: #E2EBFA;\n",
              "      box-shadow: 0px 1px 2px rgba(60, 64, 67, 0.3), 0px 1px 3px 1px rgba(60, 64, 67, 0.15);\n",
              "      fill: #174EA6;\n",
              "    }\n",
              "\n",
              "    [theme=dark] .colab-df-convert {\n",
              "      background-color: #3B4455;\n",
              "      fill: #D2E3FC;\n",
              "    }\n",
              "\n",
              "    [theme=dark] .colab-df-convert:hover {\n",
              "      background-color: #434B5C;\n",
              "      box-shadow: 0px 1px 3px 1px rgba(0, 0, 0, 0.15);\n",
              "      filter: drop-shadow(0px 1px 2px rgba(0, 0, 0, 0.3));\n",
              "      fill: #FFFFFF;\n",
              "    }\n",
              "  </style>\n",
              "\n",
              "      <script>\n",
              "        const buttonEl =\n",
              "          document.querySelector('#df-c44c35be-656a-4d4a-86b6-96e014787449 button.colab-df-convert');\n",
              "        buttonEl.style.display =\n",
              "          google.colab.kernel.accessAllowed ? 'block' : 'none';\n",
              "\n",
              "        async function convertToInteractive(key) {\n",
              "          const element = document.querySelector('#df-c44c35be-656a-4d4a-86b6-96e014787449');\n",
              "          const dataTable =\n",
              "            await google.colab.kernel.invokeFunction('convertToInteractive',\n",
              "                                                     [key], {});\n",
              "          if (!dataTable) return;\n",
              "\n",
              "          const docLinkHtml = 'Like what you see? Visit the ' +\n",
              "            '<a target=\"_blank\" href=https://colab.research.google.com/notebooks/data_table.ipynb>data table notebook</a>'\n",
              "            + ' to learn more about interactive tables.';\n",
              "          element.innerHTML = '';\n",
              "          dataTable['output_type'] = 'display_data';\n",
              "          await google.colab.output.renderOutput(dataTable, element);\n",
              "          const docLink = document.createElement('div');\n",
              "          docLink.innerHTML = docLinkHtml;\n",
              "          element.appendChild(docLink);\n",
              "        }\n",
              "      </script>\n",
              "    </div>\n",
              "  </div>\n",
              "  "
            ]
          },
          "metadata": {},
          "execution_count": 23
        }
      ]
    },
    {
      "cell_type": "code",
      "source": [
        "# verificando a distribuição estatística dos dados limpos\n",
        "\n",
        "df_clean.hist(figsize=(15,10), grid=False)"
      ],
      "metadata": {
        "colab": {
          "base_uri": "https://localhost:8080/",
          "height": 833
        },
        "id": "-4jGUZ4EHoDW",
        "outputId": "60db60b6-b75d-4e16-e994-ef405862ca95"
      },
      "execution_count": null,
      "outputs": [
        {
          "output_type": "execute_result",
          "data": {
            "text/plain": [
              "array([[<matplotlib.axes._subplots.AxesSubplot object at 0x7f5932064700>,\n",
              "        <matplotlib.axes._subplots.AxesSubplot object at 0x7f5931f9cf40>,\n",
              "        <matplotlib.axes._subplots.AxesSubplot object at 0x7f5931f134f0>],\n",
              "       [<matplotlib.axes._subplots.AxesSubplot object at 0x7f5931eb8c10>,\n",
              "        <matplotlib.axes._subplots.AxesSubplot object at 0x7f5931e6e370>,\n",
              "        <matplotlib.axes._subplots.AxesSubplot object at 0x7f5931e9a9d0>],\n",
              "       [<matplotlib.axes._subplots.AxesSubplot object at 0x7f5931e9aac0>,\n",
              "        <matplotlib.axes._subplots.AxesSubplot object at 0x7f5931e50280>,\n",
              "        <matplotlib.axes._subplots.AxesSubplot object at 0x7f5931e250d0>],\n",
              "       [<matplotlib.axes._subplots.AxesSubplot object at 0x7f5931dda790>,\n",
              "        <matplotlib.axes._subplots.AxesSubplot object at 0x7f5931d86eb0>,\n",
              "        <matplotlib.axes._subplots.AxesSubplot object at 0x7f5931d3c610>]],\n",
              "      dtype=object)"
            ]
          },
          "metadata": {},
          "execution_count": 32
        },
        {
          "output_type": "display_data",
          "data": {
            "text/plain": [
              "<Figure size 1080x720 with 12 Axes>"
            ],
            "image/png": "[encoded data removed]"
          },
          "metadata": {
            "needs_background": "light"
          }
        }
      ]
    },
    {
      "cell_type": "markdown",
      "source": [
        "### **Q4. Qual a correlação existente entre as variáveis**\n",
        "\n",
        "Correlação significa que existe uma relação entre duas coisas. No nosso contexto, estamos buscando relação ou semelhança entre duas variáveis.\n",
        "\n",
        "Essa relação pode ser medida, e é função do coeficiente de correlação estabelecer qual a intensidade dela. Para identificar as correlações existentes entre as variáveis de interesse, vou:\n",
        "\n",
        "* Criar uma matriz de correlação\n",
        "* Gerar um *heatmap* a partir dessa matriz, usando a biblioteca `seaborn`"
      ],
      "metadata": {
        "id": "6e1QOCNdnNFW"
      }
    },
    {
      "cell_type": "code",
      "metadata": {
        "id": "x2ayzBajqxyd",
        "colab": {
          "base_uri": "https://localhost:8080/",
          "height": 238
        },
        "outputId": "c96857eb-789b-4b51-a42c-d8544a03b3e9"
      },
      "source": [
        "corr = df_clean[['price', 'minimum_nights', 'number_of_reviews', 'reviews_per_month', 'calculated_host_listings_count', 'availability_365']].corr()\n",
        "\n",
        "\n",
        "display(corr)\n"
      ],
      "execution_count": null,
      "outputs": [
        {
          "output_type": "display_data",
          "data": {
            "text/plain": [
              "                                   price  minimum_nights  number_of_reviews  \\\n",
              "price                           1.000000       -0.021534           0.047831   \n",
              "minimum_nights                 -0.021534        1.000000          -0.056829   \n",
              "number_of_reviews               0.047831       -0.056829           1.000000   \n",
              "reviews_per_month               0.067706       -0.099126           0.693047   \n",
              "calculated_host_listings_count -0.154060       -0.026272          -0.162941   \n",
              "availability_365                0.004483       -0.034032           0.001045   \n",
              "\n",
              "                                reviews_per_month  \\\n",
              "price                                    0.067706   \n",
              "minimum_nights                          -0.099126   \n",
              "number_of_reviews                        0.693047   \n",
              "reviews_per_month                        1.000000   \n",
              "calculated_host_listings_count          -0.096383   \n",
              "availability_365                         0.030161   \n",
              "\n",
              "                                calculated_host_listings_count  \\\n",
              "price                                                -0.154060   \n",
              "minimum_nights                                       -0.026272   \n",
              "number_of_reviews                                    -0.162941   \n",
              "reviews_per_month                                    -0.096383   \n",
              "calculated_host_listings_count                        1.000000   \n",
              "availability_365                                      0.000871   \n",
              "\n",
              "                                availability_365  \n",
              "price                                   0.004483  \n",
              "minimum_nights                         -0.034032  \n",
              "number_of_reviews                       0.001045  \n",
              "reviews_per_month                       0.030161  \n",
              "calculated_host_listings_count          0.000871  \n",
              "availability_365                        1.000000  "
            ],
            "text/html": [
              "\n",
              "  <div id=\"df-6bdb8433-d547-4d40-9172-ebdecb6a49a6\">\n",
              "    <div class=\"colab-df-container\">\n",
              "      <div>\n",
              "<style scoped>\n",
              "    .dataframe tbody tr th:only-of-type {\n",
              "        vertical-align: middle;\n",
              "    }\n",
              "\n",
              "    .dataframe tbody tr th {\n",
              "        vertical-align: top;\n",
              "    }\n",
              "\n",
              "    .dataframe thead th {\n",
              "        text-align: right;\n",
              "    }\n",
              "</style>\n",
              "<table border=\"1\" class=\"dataframe\">\n",
              "  <thead>\n",
              "    <tr style=\"text-align: right;\">\n",
              "      <th></th>\n",
              "      <th>price</th>\n",
              "      <th>minimum_nights</th>\n",
              "      <th>number_of_reviews</th>\n",
              "      <th>reviews_per_month</th>\n",
              "      <th>calculated_host_listings_count</th>\n",
              "      <th>availability_365</th>\n",
              "    </tr>\n",
              "  </thead>\n",
              "  <tbody>\n",
              "    <tr>\n",
              "      <th>price</th>\n",
              "      <td>1.000000</td>\n",
              "      <td>-0.021534</td>\n",
              "      <td>0.047831</td>\n",
              "      <td>0.067706</td>\n",
              "      <td>-0.154060</td>\n",
              "      <td>0.004483</td>\n",
              "    </tr>\n",
              "    <tr>\n",
              "      <th>minimum_nights</th>\n",
              "      <td>-0.021534</td>\n",
              "      <td>1.000000</td>\n",
              "      <td>-0.056829</td>\n",
              "      <td>-0.099126</td>\n",
              "      <td>-0.026272</td>\n",
              "      <td>-0.034032</td>\n",
              "    </tr>\n",
              "    <tr>\n",
              "      <th>number_of_reviews</th>\n",
              "      <td>0.047831</td>\n",
              "      <td>-0.056829</td>\n",
              "      <td>1.000000</td>\n",
              "      <td>0.693047</td>\n",
              "      <td>-0.162941</td>\n",
              "      <td>0.001045</td>\n",
              "    </tr>\n",
              "    <tr>\n",
              "      <th>reviews_per_month</th>\n",
              "      <td>0.067706</td>\n",
              "      <td>-0.099126</td>\n",
              "      <td>0.693047</td>\n",
              "      <td>1.000000</td>\n",
              "      <td>-0.096383</td>\n",
              "      <td>0.030161</td>\n",
              "    </tr>\n",
              "    <tr>\n",
              "      <th>calculated_host_listings_count</th>\n",
              "      <td>-0.154060</td>\n",
              "      <td>-0.026272</td>\n",
              "      <td>-0.162941</td>\n",
              "      <td>-0.096383</td>\n",
              "      <td>1.000000</td>\n",
              "      <td>0.000871</td>\n",
              "    </tr>\n",
              "    <tr>\n",
              "      <th>availability_365</th>\n",
              "      <td>0.004483</td>\n",
              "      <td>-0.034032</td>\n",
              "      <td>0.001045</td>\n",
              "      <td>0.030161</td>\n",
              "      <td>0.000871</td>\n",
              "      <td>1.000000</td>\n",
              "    </tr>\n",
              "  </tbody>\n",
              "</table>\n",
              "</div>\n",
              "      <button class=\"colab-df-convert\" onclick=\"convertToInteractive('df-6bdb8433-d547-4d40-9172-ebdecb6a49a6')\"\n",
              "              title=\"Convert this dataframe to an interactive table.\"\n",
              "              style=\"display:none;\">\n",
              "        \n",
              "  <svg xmlns=\"http://www.w3.org/2000/svg\" height=\"24px\"viewBox=\"0 0 24 24\"\n",
              "       width=\"24px\">\n",
              "    <path d=\"M0 0h24v24H0V0z\" fill=\"none\"/>\n",
              "    <path d=\"M18.56 5.44l.94 2.06.94-2.06 2.06-.94-2.06-.94-.94-2.06-.94 2.06-2.06.94zm-11 1L8.5 8.5l.94-2.06 2.06-.94-2.06-.94L8.5 2.5l-.94 2.06-2.06.94zm10 10l.94 2.06.94-2.06 2.06-.94-2.06-.94-.94-2.06-.94 2.06-2.06.94z\"/><path d=\"M17.41 7.96l-1.37-1.37c-.4-.4-.92-.59-1.43-.59-.52 0-1.04.2-1.43.59L10.3 9.45l-7.72 7.72c-.78.78-.78 2.05 0 2.83L4 21.41c.39.39.9.59 1.41.59.51 0 1.02-.2 1.41-.59l7.78-7.78 2.81-2.81c.8-.78.8-2.07 0-2.86zM5.41 20L4 18.59l7.72-7.72 1.47 1.35L5.41 20z\"/>\n",
              "  </svg>\n",
              "      </button>\n",
              "      \n",
              "  <style>\n",
              "    .colab-df-container {\n",
              "      display:flex;\n",
              "      flex-wrap:wrap;\n",
              "      gap: 12px;\n",
              "    }\n",
              "\n",
              "    .colab-df-convert {\n",
              "      background-color: #E8F0FE;\n",
              "      border: none;\n",
              "      border-radius: 50%;\n",
              "      cursor: pointer;\n",
              "      display: none;\n",
              "      fill: #1967D2;\n",
              "      height: 32px;\n",
              "      padding: 0 0 0 0;\n",
              "      width: 32px;\n",
              "    }\n",
              "\n",
              "    .colab-df-convert:hover {\n",
              "      background-color: #E2EBFA;\n",
              "      box-shadow: 0px 1px 2px rgba(60, 64, 67, 0.3), 0px 1px 3px 1px rgba(60, 64, 67, 0.15);\n",
              "      fill: #174EA6;\n",
              "    }\n",
              "\n",
              "    [theme=dark] .colab-df-convert {\n",
              "      background-color: #3B4455;\n",
              "      fill: #D2E3FC;\n",
              "    }\n",
              "\n",
              "    [theme=dark] .colab-df-convert:hover {\n",
              "      background-color: #434B5C;\n",
              "      box-shadow: 0px 1px 3px 1px rgba(0, 0, 0, 0.15);\n",
              "      filter: drop-shadow(0px 1px 2px rgba(0, 0, 0, 0.3));\n",
              "      fill: #FFFFFF;\n",
              "    }\n",
              "  </style>\n",
              "\n",
              "      <script>\n",
              "        const buttonEl =\n",
              "          document.querySelector('#df-6bdb8433-d547-4d40-9172-ebdecb6a49a6 button.colab-df-convert');\n",
              "        buttonEl.style.display =\n",
              "          google.colab.kernel.accessAllowed ? 'block' : 'none';\n",
              "\n",
              "        async function convertToInteractive(key) {\n",
              "          const element = document.querySelector('#df-6bdb8433-d547-4d40-9172-ebdecb6a49a6');\n",
              "          const dataTable =\n",
              "            await google.colab.kernel.invokeFunction('convertToInteractive',\n",
              "                                                     [key], {});\n",
              "          if (!dataTable) return;\n",
              "\n",
              "          const docLinkHtml = 'Like what you see? Visit the ' +\n",
              "            '<a target=\"_blank\" href=https://colab.research.google.com/notebooks/data_table.ipynb>data table notebook</a>'\n",
              "            + ' to learn more about interactive tables.';\n",
              "          element.innerHTML = '';\n",
              "          dataTable['output_type'] = 'display_data';\n",
              "          await google.colab.output.renderOutput(dataTable, element);\n",
              "          const docLink = document.createElement('div');\n",
              "          docLink.innerHTML = docLinkHtml;\n",
              "          element.appendChild(docLink);\n",
              "        }\n",
              "      </script>\n",
              "    </div>\n",
              "  </div>\n",
              "  "
            ]
          },
          "metadata": {}
        }
      ]
    },
    {
      "cell_type": "code",
      "metadata": {
        "id": "91UujDr6ueqE",
        "colab": {
          "base_uri": "https://localhost:8080/",
          "height": 411
        },
        "outputId": "78f24741-2617-4ad8-89d7-e901ffe96a8e"
      },
      "source": [
        "sns.heatmap(corr, cmap='RdBu', fmt='.2f', square=True, linecolor='white', annot=True);"
      ],
      "execution_count": null,
      "outputs": [
        {
          "output_type": "display_data",
          "data": {
            "text/plain": [
              "<Figure size 432x288 with 2 Axes>"
            ],
            "image/png": "[encoded data removed]"
          },
          "metadata": {
            "needs_background": "light"
          }
        }
      ]
    },
    {
      "cell_type": "markdown",
      "source": [
        "### **Q5. Qual o tipo de imóvel mais alugado no Airbnb?**\n",
        "\n",
        "A coluna da variável `room_type` indica o tipo de locação que está anunciada no Airbnb. Se você já alugou no site, sabe que existem opções de apartamentos/casas inteiras, apenas o aluguel de um quarto ou mesmo dividir o quarto com outras pessoas.\n",
        "\n",
        "Vamos contar a quantidade de ocorrências de cada tipo de aluguel, usando o método `value_counts()`."
      ],
      "metadata": {
        "id": "q3iQlEPZTJyr"
      }
    },
    {
      "cell_type": "code",
      "metadata": {
        "id": "ueLPNWvPHgfB",
        "colab": {
          "base_uri": "https://localhost:8080/"
        },
        "outputId": "589bcc89-ed20-4b8d-b43d-6e832dd83b87"
      },
      "source": [
        "df_clean.room_type.value_counts()"
      ],
      "execution_count": null,
      "outputs": [
        {
          "output_type": "execute_result",
          "data": {
            "text/plain": [
              "Entire home/apt    6473\n",
              "Private room       2323\n",
              "Hotel room          329\n",
              "Shared room         237\n",
              "Name: room_type, dtype: int64"
            ]
          },
          "metadata": {},
          "execution_count": 13
        }
      ]
    },
    {
      "cell_type": "markdown",
      "source": [
        "Vemos que a grande maioria dos tipos de imóveis que estão sendo alugados, são casa ou apartamentos inteiros."
      ],
      "metadata": {
        "id": "oumyhx1jIMV3"
      }
    },
    {
      "cell_type": "code",
      "metadata": {
        "id": "EvwoO-XAHhIm",
        "colab": {
          "base_uri": "https://localhost:8080/"
        },
        "outputId": "3fb22881-83d3-4d15-93f5-922094b37616"
      },
      "source": [
        "df_clean.room_type.value_counts() / df_clean.shape[0]"
      ],
      "execution_count": null,
      "outputs": [
        {
          "output_type": "execute_result",
          "data": {
            "text/plain": [
              "Entire home/apt    0.691412\n",
              "Private room       0.248131\n",
              "Hotel room         0.035142\n",
              "Shared room        0.025315\n",
              "Name: room_type, dtype: float64"
            ]
          },
          "metadata": {},
          "execution_count": 14
        }
      ]
    },
    {
      "cell_type": "markdown",
      "metadata": {
        "id": "MFa5NbnLJMcd"
      },
      "source": [
        "### **Q6. Qual a localidade mais cara do dataset?**\n",
        "\n",
        "Uma maneira de se verificar uma variável em função da outra é usando `groupby()`. No caso, queremos comparar os bairros (*neighbourhoods*) a partir do preço de locação.\n",
        "\n"
      ]
    },
    {
      "cell_type": "code",
      "metadata": {
        "id": "MD_xa143JZpi",
        "colab": {
          "base_uri": "https://localhost:8080/"
        },
        "outputId": "8ed9f17a-ea50-4092-e3a1-ce3877fc36b0"
      },
      "source": [
        "df_clean.groupby(['neighbourhood']).price.mean().sort_values(ascending=False)[:10]"
      ],
      "execution_count": null,
      "outputs": [
        {
          "output_type": "execute_result",
          "data": {
            "text/plain": [
              "neighbourhood\n",
              "Hinohara Mura     30686.000000\n",
              "Mitaka Shi        16424.111111\n",
              "Okutama Machi     15219.000000\n",
              "Chiyoda Ku        13054.808081\n",
              "Musashino Shi     12728.600000\n",
              "Meguro Ku         12307.437500\n",
              "Minato Ku         12113.383333\n",
              "Shibuya Ku        11935.392593\n",
              "Chuo Ku           11172.417508\n",
              "Nishitokyo Shi    11110.250000\n",
              "Name: price, dtype: float64"
            ]
          },
          "metadata": {},
          "execution_count": 15
        }
      ]
    },
    {
      "cell_type": "markdown",
      "source": [
        "Acima, vemos que bairros como Hinohara, Kodahara, e Mitaka estão com média de preço superior a de lugares como Shibuya, ,Shinjuku e Shinagawa.\n",
        "\n",
        "Uma pessoa que não conhecesse Tóquio poderia apresentar esses resultados sem se questionar. Só para dar um único exemplo de como uma amostra pode ser não-representativa, veja quantas entradas há para o Hinohara Mura."
      ],
      "metadata": {
        "id": "Nb-x16U7rOY-"
      }
    },
    {
      "cell_type": "code",
      "source": [
        "print(df_clean[df_clean.neighbourhood == \"Hinohara Mura\"].shape)\n",
        "\n",
        "df_clean[df_clean.neighbourhood == \"Hinohara Mura\"]"
      ],
      "metadata": {
        "colab": {
          "base_uri": "https://localhost:8080/",
          "height": 266
        },
        "id": "ay5MgfyIrWRs",
        "outputId": "b8c61c9f-6864-4b0a-a958-8369f7ed43c2"
      },
      "execution_count": null,
      "outputs": [
        {
          "output_type": "stream",
          "name": "stdout",
          "text": [
            "(1, 17)\n"
          ]
        },
        {
          "output_type": "execute_result",
          "data": {
            "text/plain": [
              "            id                                              name    host_id  \\\n",
              "9687  19512934  Classic Japanese farm house (min 4 pax required)  137040470   \n",
              "\n",
              "     host_name  neighbourhood  latitude  longitude        room_type  price  \\\n",
              "9687      Yoko  Hinohara Mura  35.69177  139.04543  Entire home/apt  30686   \n",
              "\n",
              "      minimum_nights  number_of_reviews last_review  reviews_per_month  \\\n",
              "9687               1                 89  2022-08-28                1.4   \n",
              "\n",
              "      calculated_host_listings_count  availability_365  number_of_reviews_ltm  \\\n",
              "9687                               1                62                     17   \n",
              "\n",
              "                                                license  \n",
              "9687  Hotels and Inns Business Act | 山梨県 | 山梨県指令　富東福...  "
            ],
            "text/html": [
              "\n",
              "  <div id=\"df-23d80061-e6c0-496c-9817-598b137abcb6\">\n",
              "    <div class=\"colab-df-container\">\n",
              "      <div>\n",
              "<style scoped>\n",
              "    .dataframe tbody tr th:only-of-type {\n",
              "        vertical-align: middle;\n",
              "    }\n",
              "\n",
              "    .dataframe tbody tr th {\n",
              "        vertical-align: top;\n",
              "    }\n",
              "\n",
              "    .dataframe thead th {\n",
              "        text-align: right;\n",
              "    }\n",
              "</style>\n",
              "<table border=\"1\" class=\"dataframe\">\n",
              "  <thead>\n",
              "    <tr style=\"text-align: right;\">\n",
              "      <th></th>\n",
              "      <th>id</th>\n",
              "      <th>name</th>\n",
              "      <th>host_id</th>\n",
              "      <th>host_name</th>\n",
              "      <th>neighbourhood</th>\n",
              "      <th>latitude</th>\n",
              "      <th>longitude</th>\n",
              "      <th>room_type</th>\n",
              "      <th>price</th>\n",
              "      <th>minimum_nights</th>\n",
              "      <th>number_of_reviews</th>\n",
              "      <th>last_review</th>\n",
              "      <th>reviews_per_month</th>\n",
              "      <th>calculated_host_listings_count</th>\n",
              "      <th>availability_365</th>\n",
              "      <th>number_of_reviews_ltm</th>\n",
              "      <th>license</th>\n",
              "    </tr>\n",
              "  </thead>\n",
              "  <tbody>\n",
              "    <tr>\n",
              "      <th>9687</th>\n",
              "      <td>19512934</td>\n",
              "      <td>Classic Japanese farm house (min 4 pax required)</td>\n",
              "      <td>137040470</td>\n",
              "      <td>Yoko</td>\n",
              "      <td>Hinohara Mura</td>\n",
              "      <td>35.69177</td>\n",
              "      <td>139.04543</td>\n",
              "      <td>Entire home/apt</td>\n",
              "      <td>30686</td>\n",
              "      <td>1</td>\n",
              "      <td>89</td>\n",
              "      <td>2022-08-28</td>\n",
              "      <td>1.4</td>\n",
              "      <td>1</td>\n",
              "      <td>62</td>\n",
              "      <td>17</td>\n",
              "      <td>Hotels and Inns Business Act | 山梨県 | 山梨県指令　富東福...</td>\n",
              "    </tr>\n",
              "  </tbody>\n",
              "</table>\n",
              "</div>\n",
              "      <button class=\"colab-df-convert\" onclick=\"convertToInteractive('df-23d80061-e6c0-496c-9817-598b137abcb6')\"\n",
              "              title=\"Convert this dataframe to an interactive table.\"\n",
              "              style=\"display:none;\">\n",
              "        \n",
              "  <svg xmlns=\"http://www.w3.org/2000/svg\" height=\"24px\"viewBox=\"0 0 24 24\"\n",
              "       width=\"24px\">\n",
              "    <path d=\"M0 0h24v24H0V0z\" fill=\"none\"/>\n",
              "    <path d=\"M18.56 5.44l.94 2.06.94-2.06 2.06-.94-2.06-.94-.94-2.06-.94 2.06-2.06.94zm-11 1L8.5 8.5l.94-2.06 2.06-.94-2.06-.94L8.5 2.5l-.94 2.06-2.06.94zm10 10l.94 2.06.94-2.06 2.06-.94-2.06-.94-.94-2.06-.94 2.06-2.06.94z\"/><path d=\"M17.41 7.96l-1.37-1.37c-.4-.4-.92-.59-1.43-.59-.52 0-1.04.2-1.43.59L10.3 9.45l-7.72 7.72c-.78.78-.78 2.05 0 2.83L4 21.41c.39.39.9.59 1.41.59.51 0 1.02-.2 1.41-.59l7.78-7.78 2.81-2.81c.8-.78.8-2.07 0-2.86zM5.41 20L4 18.59l7.72-7.72 1.47 1.35L5.41 20z\"/>\n",
              "  </svg>\n",
              "      </button>\n",
              "      \n",
              "  <style>\n",
              "    .colab-df-container {\n",
              "      display:flex;\n",
              "      flex-wrap:wrap;\n",
              "      gap: 12px;\n",
              "    }\n",
              "\n",
              "    .colab-df-convert {\n",
              "      background-color: #E8F0FE;\n",
              "      border: none;\n",
              "      border-radius: 50%;\n",
              "      cursor: pointer;\n",
              "      display: none;\n",
              "      fill: #1967D2;\n",
              "      height: 32px;\n",
              "      padding: 0 0 0 0;\n",
              "      width: 32px;\n",
              "    }\n",
              "\n",
              "    .colab-df-convert:hover {\n",
              "      background-color: #E2EBFA;\n",
              "      box-shadow: 0px 1px 2px rgba(60, 64, 67, 0.3), 0px 1px 3px 1px rgba(60, 64, 67, 0.15);\n",
              "      fill: #174EA6;\n",
              "    }\n",
              "\n",
              "    [theme=dark] .colab-df-convert {\n",
              "      background-color: #3B4455;\n",
              "      fill: #D2E3FC;\n",
              "    }\n",
              "\n",
              "    [theme=dark] .colab-df-convert:hover {\n",
              "      background-color: #434B5C;\n",
              "      box-shadow: 0px 1px 3px 1px rgba(0, 0, 0, 0.15);\n",
              "      filter: drop-shadow(0px 1px 2px rgba(0, 0, 0, 0.3));\n",
              "      fill: #FFFFFF;\n",
              "    }\n",
              "  </style>\n",
              "\n",
              "      <script>\n",
              "        const buttonEl =\n",
              "          document.querySelector('#df-23d80061-e6c0-496c-9817-598b137abcb6 button.colab-df-convert');\n",
              "        buttonEl.style.display =\n",
              "          google.colab.kernel.accessAllowed ? 'block' : 'none';\n",
              "\n",
              "        async function convertToInteractive(key) {\n",
              "          const element = document.querySelector('#df-23d80061-e6c0-496c-9817-598b137abcb6');\n",
              "          const dataTable =\n",
              "            await google.colab.kernel.invokeFunction('convertToInteractive',\n",
              "                                                     [key], {});\n",
              "          if (!dataTable) return;\n",
              "\n",
              "          const docLinkHtml = 'Like what you see? Visit the ' +\n",
              "            '<a target=\"_blank\" href=https://colab.research.google.com/notebooks/data_table.ipynb>data table notebook</a>'\n",
              "            + ' to learn more about interactive tables.';\n",
              "          element.innerHTML = '';\n",
              "          dataTable['output_type'] = 'display_data';\n",
              "          await google.colab.output.renderOutput(dataTable, element);\n",
              "          const docLink = document.createElement('div');\n",
              "          docLink.innerHTML = docLinkHtml;\n",
              "          element.appendChild(docLink);\n",
              "        }\n",
              "      </script>\n",
              "    </div>\n",
              "  </div>\n",
              "  "
            ]
          },
          "metadata": {},
          "execution_count": 16
        }
      ]
    },
    {
      "cell_type": "markdown",
      "source": [
        "Como vimos cidade de Hinahara Maru tem a média mais alta da cidade. Porem, ao consultar a quantidade de imóveis, podemos enxergar que há apenas 1 no bairro, que fica em uma região afastada e turística. Onde o locatário vive uma experiencia diferenciada, o que deixa seu valor elevado."
      ],
      "metadata": {
        "id": "ER5ZvQjOFjDS"
      }
    },
    {
      "cell_type": "markdown",
      "source": [
        "Como são fornecidas as Latitudes e Longitudes para os imóveis, é possível plotar cada ponto. Para isso, considera-se `x=longitude` e `y=latitude`.\n",
        "\n"
      ],
      "metadata": {
        "id": "RHvlfVU2rZBY"
      }
    },
    {
      "cell_type": "code",
      "metadata": {
        "id": "UxVJqJ_3W59I",
        "colab": {
          "base_uri": "https://localhost:8080/",
          "height": 476
        },
        "outputId": "87dafe41-0671-41fa-ee48-09ec52f0b3ea"
      },
      "source": [
        "df_clean.plot(kind=\"scatter\", x='longitude', y='latitude', alpha=0.4, c=df_clean['price'], s=8, cmap=plt.get_cmap('jet'), figsize=(12,8));"
      ],
      "execution_count": null,
      "outputs": [
        {
          "output_type": "display_data",
          "data": {
            "text/plain": [
              "<Figure size 864x576 with 2 Axes>"
            ],
            "image/png": "[encoded data removed]"
          },
          "metadata": {
            "needs_background": "light"
          }
        }
      ]
    },
    {
      "cell_type": "markdown",
      "source": [
        "Conseguimos observar que a grande maioria dos imóveis se localizam na região próxima ao mar, e na região próxima ao centro central. "
      ],
      "metadata": {
        "id": "CMoLjsybKSkx"
      }
    },
    {
      "cell_type": "markdown",
      "metadata": {
        "id": "vTneAMRUYvr1"
      },
      "source": [
        "### **Q7. Qual é a média do mínimo de noites para aluguel (minimum_nights)?**"
      ]
    },
    {
      "cell_type": "code",
      "metadata": {
        "id": "_VzNhrEgY82N",
        "colab": {
          "base_uri": "https://localhost:8080/"
        },
        "outputId": "3ba4f07e-db09-405b-cac6-e971e6564ac5"
      },
      "source": [
        "df.minimum_nights.mean()"
      ],
      "execution_count": null,
      "outputs": [
        {
          "output_type": "execute_result",
          "data": {
            "text/plain": [
              "2.5404662526723"
            ]
          },
          "metadata": {},
          "execution_count": 40
        }
      ]
    },
    {
      "cell_type": "markdown",
      "metadata": {
        "id": "GkvAg623RjoR"
      },
      "source": [
        "## Conclusões\n"
      ]
    },
    {
      "cell_type": "markdown",
      "metadata": {
        "id": "rbZ3Hsy9Ypw8"
      },
      "source": [
        "Mesmo com uma análise superficial na base de dados fornecida pelo Airbnb, foi possível perceber que existem outliers dentro de algumas variáveis.\n",
        "\n",
        "Também foi possível notar que existem bairros com quantidade pequena de imóveis, que podem destorcer as informações estatísticas de alguns atributos.\n",
        "\n",
        "Por fim, ressalta-se que este dataset é uma versão resumida, servindo apenas para abordagens iniciais. Recomenda-se que seja usado, em uma próxima análise exploratória, o conjunto de dados completos, com 75 atributos disponíveis.\n"
      ]
    }
  ]
}